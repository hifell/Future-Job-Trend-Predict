{
 "cells": [
  {
   "cell_type": "code",
   "execution_count": 3,
   "id": "4126970b",
   "metadata": {},
   "outputs": [
    {
     "name": "stdout",
     "output_type": "stream",
     "text": [
      "   Year            Job_Type  Tech_Index  AI_Adoption  Automation_Level  \\\n",
      "0  2020   Financial Analyst       62.98        63.54             81.38   \n",
      "1  2028  Software Developer       60.33        63.49             56.74   \n",
      "2  2030          Accountant       84.37        52.80             73.33   \n",
      "3  2025     Project Manager       62.98        94.48             51.81   \n",
      "4  2026    Digital Marketer       68.57        40.98             31.27   \n",
      "\n",
      "   Education_Index  Remote_Work_Index  Market_Demand  Job_Trend_Score  \n",
      "0            66.29              48.40          63.96            68.67  \n",
      "1            60.11              70.86          55.00            72.80  \n",
      "2            45.52              34.65          63.29            53.32  \n",
      "3            72.84              38.08          74.08            63.49  \n",
      "4            75.71              33.47          78.06            65.43  \n",
      "<class 'pandas.core.frame.DataFrame'>\n",
      "RangeIndex: 400 entries, 0 to 399\n",
      "Data columns (total 9 columns):\n",
      " #   Column             Non-Null Count  Dtype  \n",
      "---  ------             --------------  -----  \n",
      " 0   Year               400 non-null    int64  \n",
      " 1   Job_Type           400 non-null    object \n",
      " 2   Tech_Index         400 non-null    float64\n",
      " 3   AI_Adoption        400 non-null    float64\n",
      " 4   Automation_Level   400 non-null    float64\n",
      " 5   Education_Index    400 non-null    float64\n",
      " 6   Remote_Work_Index  400 non-null    float64\n",
      " 7   Market_Demand      400 non-null    float64\n",
      " 8   Job_Trend_Score    400 non-null    float64\n",
      "dtypes: float64(7), int64(1), object(1)\n",
      "memory usage: 28.3+ KB\n",
      "None\n"
     ]
    }
   ],
   "source": [
    "# ====================\n",
    "# Imports & Setup\n",
    "# ====================\n",
    "import pandas as pd, numpy as np, matplotlib.pyplot as plt, seaborn as sns\n",
    "from sklearn.model_selection import train_test_split, RandomizedSearchCV\n",
    "from sklearn.ensemble import RandomForestRegressor, GradientBoostingRegressor\n",
    "from sklearn.preprocessing import StandardScaler, OneHotEncoder\n",
    "from sklearn.pipeline import Pipeline\n",
    "from sklearn.compose import ColumnTransformer\n",
    "from sklearn.metrics import mean_squared_error, r2_score\n",
    "from sklearn.cluster import KMeans\n",
    "import joblib\n",
    "\n",
    "pd.options.display.max_columns = 200\n",
    "\n",
    "# ====================\n",
    "# Load Data\n",
    "# ====================\n",
    "df = pd.read_csv(\"future_job_trend_with_types.csv\")  # ganti sesuai nama file\n",
    "print(df.head())\n",
    "print(df.info())"
   ]
  },
  {
   "cell_type": "code",
   "execution_count": 4,
   "id": "eb52fe64",
   "metadata": {},
   "outputs": [],
   "source": [
    "# ====================\n",
    "# Feature & Target\n",
    "# ====================\n",
    "features = ['Year','Job_Type','Tech_Index','AI_Adoption','Automation_Level',\n",
    "            'Education_Index','Remote_Work_Index','Market_Demand']\n",
    "target = 'Job_Trend_Score'\n",
    "\n",
    "X = df[features].copy()\n",
    "y = df[target].copy()\n",
    "\n",
    "# Split kolom numerik & kategorikal\n",
    "cat_cols = ['Job_Type']\n",
    "num_cols = ['Year','Tech_Index','AI_Adoption','Automation_Level',\n",
    "            'Education_Index','Remote_Work_Index','Market_Demand']"
   ]
  },
  {
   "cell_type": "code",
   "execution_count": 6,
   "id": "1a93382e",
   "metadata": {},
   "outputs": [],
   "source": [
    "# ====================\n",
    "# Preprocessing\n",
    "# ====================\n",
    "num_pipe = Pipeline([('scaler', StandardScaler())])\n",
    "cat_pipe = Pipeline([('ohe', OneHotEncoder(handle_unknown='ignore'))])\n",
    "\n",
    "preprocessor = ColumnTransformer([\n",
    "    ('num', num_pipe, num_cols),\n",
    "    ('cat', cat_pipe, cat_cols)\n",
    "])\n"
   ]
  },
  {
   "cell_type": "code",
   "execution_count": 7,
   "id": "19d53f5f",
   "metadata": {},
   "outputs": [],
   "source": [
    "# ====================\n",
    "# Train-Test Split\n",
    "# ====================\n",
    "X_train, X_test, y_train, y_test = train_test_split(\n",
    "    X, y, test_size=0.2, random_state=42\n",
    ")"
   ]
  },
  {
   "cell_type": "code",
   "execution_count": 8,
   "id": "d74af554",
   "metadata": {},
   "outputs": [
    {
     "name": "stdout",
     "output_type": "stream",
     "text": [
      "\n",
      "=== Random Forest Regression (Best Model) ===\n",
      "RMSE: 7.291864863697873\n",
      "R2: 0.5907557438618005\n",
      "Best Params: {'rf__n_estimators': 300, 'rf__min_samples_split': 2, 'rf__min_samples_leaf': 1, 'rf__max_depth': 20}\n"
     ]
    },
    {
     "name": "stderr",
     "output_type": "stream",
     "text": [
      "c:\\ProgramData\\anaconda3\\Lib\\site-packages\\sklearn\\metrics\\_regression.py:483: FutureWarning: 'squared' is deprecated in version 1.4 and will be removed in 1.6. To calculate the root mean squared error, use the function'root_mean_squared_error'.\n",
      "  warnings.warn(\n"
     ]
    }
   ],
   "source": [
    "# ====================\n",
    "# Random Forest Regressor + Hyperparameter Tuning\n",
    "# ====================\n",
    "reg = Pipeline([\n",
    "    ('prep', preprocessor),\n",
    "    ('rf', RandomForestRegressor(random_state=42))\n",
    "])\n",
    "\n",
    "param_grid = {\n",
    "    'rf__n_estimators': [200, 300, 500],\n",
    "    'rf__max_depth': [10, 20, None],\n",
    "    'rf__min_samples_split': [2, 5, 10],\n",
    "    'rf__min_samples_leaf': [1, 2, 4]\n",
    "}\n",
    "\n",
    "search = RandomizedSearchCV(\n",
    "    reg, param_distributions=param_grid,\n",
    "    n_iter=15, cv=5, scoring='r2', n_jobs=-1, random_state=42\n",
    ")\n",
    "\n",
    "search.fit(X_train, y_train)\n",
    "best_reg = search.best_estimator_\n",
    "\n",
    "y_pred = best_reg.predict(X_test)\n",
    "\n",
    "print(\"\\n=== Random Forest Regression (Best Model) ===\")\n",
    "print(\"RMSE:\", mean_squared_error(y_test, y_pred, squared=False))\n",
    "print(\"R2:\", r2_score(y_test, y_pred))\n",
    "print(\"Best Params:\", search.best_params_)\n"
   ]
  },
  {
   "cell_type": "code",
   "execution_count": 9,
   "id": "fa0f6502",
   "metadata": {},
   "outputs": [
    {
     "name": "stdout",
     "output_type": "stream",
     "text": [
      "\n",
      "=== Gradient Boosting Regression ===\n",
      "RMSE: 5.98559283526369\n",
      "R2: 0.7242473392393989\n"
     ]
    },
    {
     "name": "stderr",
     "output_type": "stream",
     "text": [
      "c:\\ProgramData\\anaconda3\\Lib\\site-packages\\sklearn\\metrics\\_regression.py:483: FutureWarning: 'squared' is deprecated in version 1.4 and will be removed in 1.6. To calculate the root mean squared error, use the function'root_mean_squared_error'.\n",
      "  warnings.warn(\n"
     ]
    }
   ],
   "source": [
    "# ====================\n",
    "# Gradient Boosting Regressor (comparison)\n",
    "# ====================\n",
    "gbr = Pipeline([\n",
    "    ('prep', preprocessor),\n",
    "    ('gbr', GradientBoostingRegressor(n_estimators=300, learning_rate=0.05, random_state=42))\n",
    "])\n",
    "\n",
    "gbr.fit(X_train, y_train)\n",
    "gbr_pred = gbr.predict(X_test)\n",
    "\n",
    "print(\"\\n=== Gradient Boosting Regression ===\")\n",
    "print(\"RMSE:\", mean_squared_error(y_test, gbr_pred, squared=False))\n",
    "print(\"R2:\", r2_score(y_test, gbr_pred))\n"
   ]
  },
  {
   "cell_type": "code",
   "execution_count": 10,
   "id": "611c3c94",
   "metadata": {},
   "outputs": [
    {
     "name": "stderr",
     "output_type": "stream",
     "text": [
      "c:\\ProgramData\\anaconda3\\Lib\\site-packages\\sklearn\\cluster\\_kmeans.py:1446: UserWarning: KMeans is known to have a memory leak on Windows with MKL, when there are less chunks than available threads. You can avoid it by setting the environment variable OMP_NUM_THREADS=2.\n",
      "  warnings.warn(\n"
     ]
    },
    {
     "name": "stdout",
     "output_type": "stream",
     "text": [
      "\n",
      "=== Cluster Top Job_Type per Cluster ===\n",
      "                top_job\n",
      "cluster                \n",
      "0        Civil Engineer\n",
      "1        Data Scientist\n",
      "2        Civil Engineer\n"
     ]
    }
   ],
   "source": [
    "# ====================\n",
    "# Clustering (job grouping)\n",
    "# ====================\n",
    "X_full = preprocessor.fit_transform(X)\n",
    "kmeans = KMeans(n_clusters=3, random_state=42)\n",
    "df['cluster'] = kmeans.fit_predict(X_full)\n",
    "\n",
    "print(\"\\n=== Cluster Top Job_Type per Cluster ===\")\n",
    "print(df.groupby('cluster')['Job_Type'].agg(lambda x: x.value_counts().index[0]).to_frame('top_job'))\n"
   ]
  },
  {
   "cell_type": "code",
   "execution_count": 12,
   "id": "52310e81",
   "metadata": {},
   "outputs": [
    {
     "name": "stdout",
     "output_type": "stream",
     "text": [
      "\n",
      "Models saved: rf_jobtrend_reg_best.joblib, gbr_jobtrend_reg.joblib\n"
     ]
    }
   ],
   "source": [
    "# ====================\n",
    "# Save Models\n",
    "# ====================\n",
    "joblib.dump(best_reg, \"rf_jobtrend_reg_best.joblib\")\n",
    "joblib.dump(gbr, \"gbr_jobtrend_reg.joblib\")\n",
    "print(\"\\nModels saved: rf_jobtrend_reg_best.joblib, gbr_jobtrend_reg.joblib\")"
   ]
  },
  {
   "cell_type": "code",
   "execution_count": null,
   "id": "3ca9cf3f",
   "metadata": {},
   "outputs": [
    {
     "name": "stdout",
     "output_type": "stream",
     "text": [
      "Hasil Prediksi Job_Trend_Score untuk data baru: 80.49913333333335\n"
     ]
    }
   ],
   "source": [
    "# %% [markdown]\n",
    "# # Prediksi Tren Pekerjaan Masa Depan\n",
    "# Load model .joblib dan lakukan prediksi dengan data baru\n",
    "\n",
    "# %%\n",
    "import joblib\n",
    "import pandas as pd\n",
    "\n",
    "# Load model\n",
    "model = joblib.load(\".joblib\")\n",
    "rf_jobtrend_reg_best\n",
    "# Contoh data baru untuk prediksi\n",
    "# Pastikan urutannya sama dengan saat training:\n",
    "# ['Year','Tech_Index','AI_Adoption','Automation_Level','Education_Index','Remote_Work_Index','Market_Demand']\n",
    "\n",
    "new_data = pd.DataFrame([{\n",
    "    \"Year\": 2030,\n",
    "    \"Job_Type\": \"AI Engineer\",\n",
    "    \"Tech_Index\": 85,\n",
    "    \"AI_Adoption\": 90,\n",
    "    \"Automation_Level\": 70,\n",
    "    \"Education_Index\": 88,\n",
    "    \"Remote_Work_Index\": 80,\n",
    "    \"Market_Demand\": 92\n",
    "}])\n",
    "\n",
    "# Prediksi\n",
    "prediction = model.predict(new_data)\n",
    "\n",
    "print(\"Hasil Prediksi Job_Trend_Score untuk data baru:\", prediction[0])\n"
   ]
  },
  {
   "cell_type": "code",
   "execution_count": null,
   "id": "44513e1d",
   "metadata": {},
   "outputs": [
    {
     "name": "stderr",
     "output_type": "stream",
     "text": [
      "2025-09-02 09:00:16.166 \n",
      "  \u001b[33m\u001b[1mWarning:\u001b[0m to view this Streamlit app on a browser, run it with the following\n",
      "  command:\n",
      "\n",
      "    streamlit run c:\\ProgramData\\anaconda3\\Lib\\site-packages\\ipykernel_launcher.py [ARGUMENTS]\n",
      "2025-09-02 09:00:16.168 No runtime found, using MemoryCacheStorageManager\n",
      "2025-09-02 09:00:16.172 No runtime found, using MemoryCacheStorageManager\n",
      "2025-09-02 09:00:16.176 No runtime found, using MemoryCacheStorageManager\n",
      "2025-09-02 09:00:16.179 No runtime found, using MemoryCacheStorageManager\n",
      "2025-09-02 09:00:16.187 No runtime found, using MemoryCacheStorageManager\n",
      "2025-09-02 09:00:16.540 No runtime found, using MemoryCacheStorageManager\n"
     ]
    },
    {
     "data": {
      "text/plain": [
       "DeltaGenerator()"
      ]
     },
     "execution_count": 1,
     "metadata": {},
     "output_type": "execute_result"
    }
   ],
   "source": [
    "# jajal.py\n",
    "import streamlit as st\n",
    "import pandas as pd\n",
    "import joblib\n",
    "import matplotlib.pyplot as plt\n",
    "\n",
    "# ====================\n",
    "# Load Model\n",
    "# ====================\n",
    "model = joblib.load(\"rf_jobtrend_reg_best.joblib\")  # pastikan file ini ada di folder yang sama\n",
    "\n",
    "st.set_page_config(page_title=\"📊 Dashboard Prediksi Tren Pekerjaan\", layout=\"wide\")\n",
    "st.title(\"📊 Prediksi Tren Pekerjaan\")\n",
    "\n",
    "st.markdown(\"Isi parameter berikut untuk memprediksi **Job Trend Score**:\")\n",
    "\n",
    "# ====================\n",
    "# Sidebar Input\n",
    "# ====================\n",
    "st.sidebar.header(\"Input Data\")\n",
    "\n",
    "year = st.sidebar.number_input(\"Tahun\", min_value=2020, max_value=2050, value=2025, step=1)\n",
    "\n",
    "job_type = st.sidebar.selectbox(\"Job Type\", [\n",
    "    \"Data Scientist\", \"Software Engineer\", \"AI Specialist\",\n",
    "    \"Automation Engineer\", \"Business Analyst\", \"Other\"\n",
    "])\n",
    "\n",
    "tech_index = st.sidebar.slider(\"Tech Index\", 0, 100, 50)\n",
    "ai_adoption = st.sidebar.slider(\"AI Adoption\", 0, 100, 40)\n",
    "automation_level = st.sidebar.slider(\"Automation Level\", 0, 100, 30)\n",
    "education_index = st.sidebar.slider(\"Education Index\", 0, 100, 60)\n",
    "remote_work_index = st.sidebar.slider(\"Remote Work Index\", 0, 100, 50)\n",
    "market_demand = st.sidebar.slider(\"Market Demand\", 0, 100, 70)\n",
    "\n",
    "# ====================\n",
    "# Buat DataFrame Input\n",
    "# ====================\n",
    "input_data = pd.DataFrame({\n",
    "    \"Year\": [year],\n",
    "    \"Job_Type\": [job_type],\n",
    "    \"Tech_Index\": [tech_index],\n",
    "    \"AI_Adoption\": [ai_adoption],\n",
    "    \"Automation_Level\": [automation_level],\n",
    "    \"Education_Index\": [education_index],\n",
    "    \"Remote_Work_Index\": [remote_work_index],\n",
    "    \"Market_Demand\": [market_demand]\n",
    "})\n",
    "\n",
    "st.subheader(\"📥 Data Input\")\n",
    "st.write(input_data)\n",
    "\n",
    "# ====================\n",
    "# Prediksi\n",
    "# ====================\n",
    "if st.button(\"🔮 Prediksi Job Trend Score\"):\n",
    "    prediction = model.predict(input_data)[0]\n",
    "    st.subheader(\"🔮 Hasil Prediksi\")\n",
    "    st.success(f\"Job Trend Score diprediksi: **{prediction:.2f}**\")\n",
    "\n",
    "    # ====================\n",
    "    # Visualisasi\n",
    "    # ====================\n",
    "    st.subheader(\"📈 Visualisasi Market Demand vs Automation Level\")\n",
    "    fig, ax = plt.subplots()\n",
    "    ax.scatter(market_demand, automation_level, color=\"blue\", s=100, label=\"Input Data\")\n",
    "    ax.set_xlabel(\"Market Demand\")\n",
    "    ax.set_ylabel(\"Automation Level\")\n",
    "    ax.legend()\n",
    "    st.pyplot(fig)\n"
   ]
  },
  {
   "cell_type": "code",
   "execution_count": null,
   "id": "7adc9835",
   "metadata": {},
   "outputs": [
    {
     "name": "stdout",
     "output_type": "stream",
     "text": [
      "Defaulting to user installation because normal site-packages is not writeable\n",
      "Collecting pyzmq\n",
      "  Using cached pyzmq-27.0.2-cp312-abi3-win_amd64.whl.metadata (6.0 kB)\n",
      "Using cached pyzmq-27.0.2-cp312-abi3-win_amd64.whl (619 kB)\n",
      "Installing collected packages: pyzmq\n",
      "  Attempting uninstall: pyzmq\n",
      "    Found existing installation: pyzmq 27.0.2\n",
      "    Uninstalling pyzmq-27.0.2:\n",
      "      Successfully uninstalled pyzmq-27.0.2\n",
      "Successfully installed pyzmq-27.0.2\n"
     ]
    },
    {
     "name": "stderr",
     "output_type": "stream",
     "text": [
      "  WARNING: Failed to remove contents in a temporary directory 'C:\\Users\\admin\\AppData\\Roaming\\Python\\Python312\\site-packages\\~mq'.\n",
      "  You can safely remove it manually.\n"
     ]
    }
   ],
   "source": [
    "import os\n",
    "st.write(\"Working Directory:\", os.getcwd())\n",
    "st.write(\"Files in folder:\", os.listdir())\n"
   ]
  }
 ],
 "metadata": {
  "kernelspec": {
   "display_name": "base",
   "language": "python",
   "name": "python3"
  },
  "language_info": {
   "codemirror_mode": {
    "name": "ipython",
    "version": 3
   },
   "file_extension": ".py",
   "mimetype": "text/x-python",
   "name": "python",
   "nbconvert_exporter": "python",
   "pygments_lexer": "ipython3",
   "version": "3.12.4"
  }
 },
 "nbformat": 4,
 "nbformat_minor": 5
}
